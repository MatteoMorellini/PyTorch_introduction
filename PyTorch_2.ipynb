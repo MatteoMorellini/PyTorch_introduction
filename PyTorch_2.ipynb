{
  "nbformat": 4,
  "nbformat_minor": 0,
  "metadata": {
    "colab": {
      "provenance": [],
      "toc_visible": true
    },
    "kernelspec": {
      "name": "python3",
      "display_name": "Python 3"
    },
    "language_info": {
      "name": "python"
    }
  },
  "cells": [
    {
      "cell_type": "code",
      "execution_count": 95,
      "metadata": {
        "id": "OYaNTtqOBS3O"
      },
      "outputs": [],
      "source": [
        "import torch\n",
        "from torch import nn # contains all of PyTorch's building blocks for NNs\n",
        "import matplotlib.pyplot as plt\n",
        "import numpy as np"
      ]
    },
    {
      "cell_type": "markdown",
      "source": [
        "# PyTorch Workflow: an example of a Pytorch end-to-end workflow"
      ],
      "metadata": {
        "id": "P6uuT9wWCbbw"
      }
    },
    {
      "cell_type": "markdown",
      "source": [
        "## 1. Data: prepare and load\n",
        "Use a linear regression with known parameters to create new data"
      ],
      "metadata": {
        "id": "sHHv53MMDaky"
      }
    },
    {
      "cell_type": "code",
      "source": [
        "weight = 0.7\n",
        "bias = 0.3\n",
        "\n",
        "start = 0\n",
        "end = 1\n",
        "step = 0.02\n",
        "X = torch.arange(start,end,step).unsqueeze(dim=1)"
      ],
      "metadata": {
        "id": "vIO-DXkhBWI6"
      },
      "execution_count": 84,
      "outputs": []
    },
    {
      "cell_type": "code",
      "source": [
        "X.shape"
      ],
      "metadata": {
        "colab": {
          "base_uri": "https://localhost:8080/"
        },
        "id": "2JCAtsJ9oqzc",
        "outputId": "3d19224f-6b0f-47be-84ca-0ffc8201853f"
      },
      "execution_count": null,
      "outputs": [
        {
          "output_type": "execute_result",
          "data": {
            "text/plain": [
              "torch.Size([50, 1])"
            ]
          },
          "metadata": {},
          "execution_count": 5
        }
      ]
    },
    {
      "cell_type": "code",
      "source": [
        "y = weight * X + bias"
      ],
      "metadata": {
        "id": "0v_pUfsEDZd1"
      },
      "execution_count": 85,
      "outputs": []
    },
    {
      "cell_type": "code",
      "source": [
        "X[:10], y[:10], len(X), len(y)"
      ],
      "metadata": {
        "colab": {
          "base_uri": "https://localhost:8080/"
        },
        "id": "Dpg934yKtF8w",
        "outputId": "9ff462c8-ae6a-4f4d-dc1d-edddbc95a8b4"
      },
      "execution_count": null,
      "outputs": [
        {
          "output_type": "execute_result",
          "data": {
            "text/plain": [
              "(tensor([[0.0000],\n",
              "         [0.0200],\n",
              "         [0.0400],\n",
              "         [0.0600],\n",
              "         [0.0800],\n",
              "         [0.1000],\n",
              "         [0.1200],\n",
              "         [0.1400],\n",
              "         [0.1600],\n",
              "         [0.1800]]),\n",
              " tensor([[0.3000],\n",
              "         [0.3140],\n",
              "         [0.3280],\n",
              "         [0.3420],\n",
              "         [0.3560],\n",
              "         [0.3700],\n",
              "         [0.3840],\n",
              "         [0.3980],\n",
              "         [0.4120],\n",
              "         [0.4260]]),\n",
              " 50,\n",
              " 50)"
            ]
          },
          "metadata": {},
          "execution_count": 7
        }
      ]
    },
    {
      "cell_type": "markdown",
      "source": [
        "### Train and test sets"
      ],
      "metadata": {
        "id": "JZ3lve4NtozN"
      }
    },
    {
      "cell_type": "code",
      "source": [
        "train_split = int(0.8 * len(X))\n",
        "train_split\n",
        "X_train, y_train = X[:train_split], y[:train_split]\n",
        "X_test, y_test = X[train_split:], y[train_split:]\n",
        "len(X_train), len(y_train), len(X_test), len(y_test)"
      ],
      "metadata": {
        "colab": {
          "base_uri": "https://localhost:8080/"
        },
        "id": "BXD7htiktJUl",
        "outputId": "a7eb2e8a-75f7-46ae-d541-bb3ae8d7261a"
      },
      "execution_count": 86,
      "outputs": [
        {
          "output_type": "execute_result",
          "data": {
            "text/plain": [
              "(40, 40, 10, 10)"
            ]
          },
          "metadata": {},
          "execution_count": 86
        }
      ]
    },
    {
      "cell_type": "markdown",
      "source": [
        "## 2. Create a Linear Regression model class"
      ],
      "metadata": {
        "id": "8lixtPAcuydX"
      }
    },
    {
      "cell_type": "code",
      "source": [
        "torch.randn((2,3)) # Returns a tensor filled with random numbers from a standard normal distribution"
      ],
      "metadata": {
        "colab": {
          "base_uri": "https://localhost:8080/"
        },
        "id": "2nPz5CkDwCcT",
        "outputId": "6720e02f-2c24-4987-ac14-6889cee07fa4"
      },
      "execution_count": 87,
      "outputs": [
        {
          "output_type": "execute_result",
          "data": {
            "text/plain": [
              "tensor([[-0.3204,  0.7377, -1.7534],\n",
              "        [ 0.6033, -0.2520, -0.4373]])"
            ]
          },
          "metadata": {},
          "execution_count": 87
        }
      ]
    },
    {
      "cell_type": "code",
      "source": [
        "class LinearRegressionModel(nn.Module): # Base class for all neural network modules.\n",
        "  def __init__(self):\n",
        "    super().__init__()\n",
        "    # Parameter is Tensor subclass that, when assigned as attribute to a nn.Module instance, it's automatically added to its paramaters\n",
        "    self.weights = nn.Parameter(torch.randn(1,\n",
        "                                            requires_grad=True, # can this parameter be updated via gradient descent?\n",
        "                                            # if True, PyTorch tracks the gradients of this parameter for use with torch.autograd (gradient descent)\n",
        "                                            dtype = torch.float)) # assure that datatype is torch.float32, optimal for PyTorch\n",
        "    self.bias = nn.Parameter(torch.randn(1,\n",
        "                                         requires_grad = True,\n",
        "                                         dtype = torch.float))\n",
        "\n",
        "  # Forward method define the forward computation in the model, any child of nn.Module needs to override forward method\n",
        "  def forward(self, x: torch.Tensor) -> torch.Tensor:\n",
        "    return self.weights * x + self.bias"
      ],
      "metadata": {
        "id": "sjpCfClJt8nb"
      },
      "execution_count": 88,
      "outputs": []
    },
    {
      "cell_type": "markdown",
      "source": [
        "**What is a module?**\n",
        "A module in PyTorch is basically a subclass of `nn.Module` acting like a container, which takes receives tensors as input and computes tensors as output.\n",
        "The previous model, custom version of PyTorch’s Linear module, has the fundamental characteristics of a module:\n",
        "1. inherits from the base Module class\n",
        "2. define some \"state\" that is used in computation\n",
        "3. define the \"forward\" function that performs the\n"
      ],
      "metadata": {
        "id": "dNqlMkeq0drV"
      }
    },
    {
      "cell_type": "markdown",
      "source": [
        "### PyTorch model building essentials\n",
        "* torch.nn\n",
        "* torch.nn.Module\n",
        "* torch.optim - contains several optimization algorithms to tell model parameters stored in nn.Parameter how to best change to improve gradient descent and reduce loss\n",
        "* torch.utils.data.Dataset\n",
        "* torch.utils.data.DataLoader"
      ],
      "metadata": {
        "id": "RLXMFVW0y96u"
      }
    },
    {
      "cell_type": "code",
      "source": [
        "# Create a random seed to initialize weights\n",
        "torch.manual_seed(101)\n",
        "\n",
        "# Create an instance of the model\n",
        "model = LinearRegressionModel()\n",
        "\n",
        "# Check out the parameters\n",
        "list(model.parameters())"
      ],
      "metadata": {
        "colab": {
          "base_uri": "https://localhost:8080/"
        },
        "id": "Gas3AXgr24Rg",
        "outputId": "abc0c83a-909f-4c87-dcda-13fac233c3b9"
      },
      "execution_count": 106,
      "outputs": [
        {
          "output_type": "execute_result",
          "data": {
            "text/plain": [
              "[Parameter containing:\n",
              " tensor([-1.3905], requires_grad=True),\n",
              " Parameter containing:\n",
              " tensor([-0.8152], requires_grad=True)]"
            ]
          },
          "metadata": {},
          "execution_count": 106
        }
      ]
    },
    {
      "cell_type": "code",
      "source": [
        "# List of each parameter with the corresponding attribute name\n",
        "model.state_dict()"
      ],
      "metadata": {
        "colab": {
          "base_uri": "https://localhost:8080/"
        },
        "id": "mDb_3F1t3JLr",
        "outputId": "060d5da9-5424-45a1-8a96-efed5dff7f54"
      },
      "execution_count": 48,
      "outputs": [
        {
          "output_type": "execute_result",
          "data": {
            "text/plain": [
              "OrderedDict([('weights', tensor([-1.3905])), ('bias', tensor([-0.8152]))])"
            ]
          },
          "metadata": {},
          "execution_count": 48
        }
      ]
    },
    {
      "cell_type": "markdown",
      "source": [
        "### Making prediction using `torch.inference_mode()`"
      ],
      "metadata": {
        "id": "L1BFxpiM5LcN"
      }
    },
    {
      "cell_type": "code",
      "source": [
        "y_pred = model(X_test)\n",
        "y_pred"
      ],
      "metadata": {
        "colab": {
          "base_uri": "https://localhost:8080/"
        },
        "id": "Ygc_bT7s5XH6",
        "outputId": "37a7fd04-8c64-4bcb-a4df-4c77842b180d"
      },
      "execution_count": 49,
      "outputs": [
        {
          "output_type": "execute_result",
          "data": {
            "text/plain": [
              "tensor([[-1.9276],\n",
              "        [-1.9555],\n",
              "        [-1.9833],\n",
              "        [-2.0111],\n",
              "        [-2.0389],\n",
              "        [-2.0667],\n",
              "        [-2.0945],\n",
              "        [-2.1223],\n",
              "        [-2.1501],\n",
              "        [-2.1779]], grad_fn=<AddBackward0>)"
            ]
          },
          "metadata": {},
          "execution_count": 49
        }
      ]
    },
    {
      "cell_type": "markdown",
      "source": [
        "Inference mode turns off gradient tracking and remove useless computations.\n",
        "We could use also `with torch.no_grad(): ` but inference mode has some advantages over this\n"
      ],
      "metadata": {
        "id": "jLihTcN76rZK"
      }
    },
    {
      "cell_type": "code",
      "source": [
        "with torch.inference_mode():\n",
        "  y_pred = model(X_test)\n",
        "y_pred"
      ],
      "metadata": {
        "colab": {
          "base_uri": "https://localhost:8080/"
        },
        "id": "GfiHS10f5QzH",
        "outputId": "c629fbd9-2fe2-4054-c248-1a300ebbfa75"
      },
      "execution_count": 50,
      "outputs": [
        {
          "output_type": "execute_result",
          "data": {
            "text/plain": [
              "tensor([[-1.9276],\n",
              "        [-1.9555],\n",
              "        [-1.9833],\n",
              "        [-2.0111],\n",
              "        [-2.0389],\n",
              "        [-2.0667],\n",
              "        [-2.0945],\n",
              "        [-2.1223],\n",
              "        [-2.1501],\n",
              "        [-2.1779]])"
            ]
          },
          "metadata": {},
          "execution_count": 50
        }
      ]
    },
    {
      "cell_type": "markdown",
      "source": [
        "### Train a model"
      ],
      "metadata": {
        "id": "8-L22FHL7Y-7"
      }
    },
    {
      "cell_type": "code",
      "source": [
        "# Setup a loss function\n",
        "loss_fn = nn.L1Loss()\n",
        "\n",
        "# Setup an optimizer\n",
        "optimizer = torch.optim.SGD(params = model.parameters(),\n",
        "                            lr = 0.1)"
      ],
      "metadata": {
        "id": "rsqCx73B7axR"
      },
      "execution_count": 107,
      "outputs": []
    },
    {
      "cell_type": "markdown",
      "source": [
        "Steps of a Training Loop:\n",
        "0. Loop through the data\n",
        "1. Forward pass\n",
        "2. Calculate the loss\n",
        "3. Set the optimizer gradient to 0 - for every mini-batch during the training phase, we typically want to explicitly set the gradients to zero before starting to do backpropagation (i.e., updating the Weights and biases) because PyTorch accumulates the gradients on subsequent backward passes. This accumulating behavior is convenient while training RNNs or when we want to compute the gradient of the loss summed over multiple mini-batches\n",
        "4. Backpropagation - compute the gradient of the loss wrt every model's parameter to be updates that is each parameter with `requires_grad = True`\n",
        "5. Gradient descent - update the parameters with `requires_grad = True` wrt the loss gradient"
      ],
      "metadata": {
        "id": "Rrmcakt2l_0C"
      }
    },
    {
      "cell_type": "markdown",
      "source": [
        "Models have either one of these modes:\n",
        "* Training mode - sets all parameteres taht require gradients to do so\n",
        "* Evaluation mode - turns off gradient tracking"
      ],
      "metadata": {
        "id": "MWr-0-vqoP_w"
      }
    },
    {
      "cell_type": "code",
      "source": [
        "epochs = 100\n",
        "\n",
        "# Track history\n",
        "epoch_count = []\n",
        "loss_values = []\n",
        "test_loss_values = []\n",
        "\n",
        "for epoch in range(epochs):\n",
        "  # Set the model to training mode\n",
        "  model.train()\n",
        "\n",
        "  #1. Forward pass\n",
        "  y_pred = model(X_train)\n",
        "  # 2. Calculate the loss\n",
        "  loss = loss_fn(y_pred, y_train)\n",
        "  # 3. Optimizer zero grad\n",
        "  optimizer.zero_grad()\n",
        "  # 4. Backpropagation\n",
        "  loss.backward()\n",
        "  # 5.Update model parameters\n",
        "  optimizer.step()\n",
        "\n",
        "  # Testing, set off settings not needed for evaluation/testing (dropout, batch norm...)\n",
        "  model.eval()\n",
        "  with torch.inference_mode(): # Turns off gradient tracking\n",
        "    test_pred = model(X_test)\n",
        "    test_loss = loss_fn(test_pred, y_test)\n",
        "\n",
        "  if epoch%10==0:\n",
        "    epoch_count.append(epoch)\n",
        "    loss_values.append(loss)\n",
        "    test_loss_values.append(test_loss)\n",
        "\n",
        "    print(f\"Epoch: {epoch} | Loss: {loss} | Test loss: {test_loss}\")"
      ],
      "metadata": {
        "colab": {
          "base_uri": "https://localhost:8080/"
        },
        "id": "PGcqd5TchmHA",
        "outputId": "59c38e3b-aca8-49b2-e9ff-f83417f6213e"
      },
      "execution_count": 108,
      "outputs": [
        {
          "output_type": "stream",
          "name": "stdout",
          "text": [
            "Epoch: 0 | Loss: 1.9305353164672852 | Test loss: 2.841078281402588\n",
            "Epoch: 10 | Loss: 0.7784351706504822 | Test loss: 1.4939781427383423\n",
            "Epoch: 20 | Loss: 0.2763247787952423 | Test loss: 0.7125031352043152\n",
            "Epoch: 30 | Loss: 0.23153117299079895 | Test loss: 0.5416391491889954\n",
            "Epoch: 40 | Loss: 0.19701513648033142 | Test loss: 0.4520460069179535\n",
            "Epoch: 50 | Loss: 0.16262713074684143 | Test loss: 0.36932194232940674\n",
            "Epoch: 60 | Loss: 0.12833963334560394 | Test loss: 0.29346683621406555\n",
            "Epoch: 70 | Loss: 0.09397915005683899 | Test loss: 0.2107427418231964\n",
            "Epoch: 80 | Loss: 0.059604741632938385 | Test loss: 0.13488757610321045\n",
            "Epoch: 90 | Loss: 0.02532033622264862 | Test loss: 0.05216345191001892\n"
          ]
        }
      ]
    },
    {
      "cell_type": "code",
      "source": [
        "model.state_dict()"
      ],
      "metadata": {
        "colab": {
          "base_uri": "https://localhost:8080/"
        },
        "id": "YpZPU3Yyp8HQ",
        "outputId": "6aa80c11-4d39-4e90-b0f9-53190a2cb468"
      },
      "execution_count": 92,
      "outputs": [
        {
          "output_type": "execute_result",
          "data": {
            "text/plain": [
              "OrderedDict([('weights', tensor([-1.0005])), ('bias', tensor([0.1848]))])"
            ]
          },
          "metadata": {},
          "execution_count": 92
        }
      ]
    },
    {
      "cell_type": "code",
      "source": [
        "with torch.inference_mode():\n",
        "  y_pred = model(X_test)\n",
        "y_pred"
      ],
      "metadata": {
        "colab": {
          "base_uri": "https://localhost:8080/"
        },
        "id": "HbUu-UgiuTXd",
        "outputId": "be88be66-8df9-4159-ed88-a01e648fd104"
      },
      "execution_count": 110,
      "outputs": [
        {
          "output_type": "execute_result",
          "data": {
            "text/plain": [
              "tensor([[0.9379],\n",
              "        [0.9516],\n",
              "        [0.9653],\n",
              "        [0.9790],\n",
              "        [0.9927],\n",
              "        [1.0064],\n",
              "        [1.0201],\n",
              "        [1.0338],\n",
              "        [1.0475],\n",
              "        [1.0613]])"
            ]
          },
          "metadata": {},
          "execution_count": 110
        }
      ]
    },
    {
      "cell_type": "code",
      "source": [
        "plt.plot(epoch_count, torch.tensor(loss_values).numpy(), label = 'Train loss')\n",
        "plt.plot(epoch_count, test_loss_values, label = 'Test loss')"
      ],
      "metadata": {
        "colab": {
          "base_uri": "https://localhost:8080/",
          "height": 447
        },
        "id": "qHoaNNtJuWVT",
        "outputId": "91a0dc7f-d66c-4c37-eecf-87465b1ec21d"
      },
      "execution_count": 109,
      "outputs": [
        {
          "output_type": "execute_result",
          "data": {
            "text/plain": [
              "[<matplotlib.lines.Line2D at 0x7a804a400e80>]"
            ]
          },
          "metadata": {},
          "execution_count": 109
        },
        {
          "output_type": "display_data",
          "data": {
            "text/plain": [
              "<Figure size 640x480 with 1 Axes>"
            ],
            "image/png": "[encoded data removed]"
          },
          "metadata": {}
        }
      ]
    },
    {
      "cell_type": "markdown",
      "source": [
        "### Save a model in PyTorch\n",
        "There are three main methods for saving&loading models in Pytorch:\n",
        "1. `torch.save()` - save a PyTorch object in Python pickle format (used to save/load objects). It's better to save the model's `state_dict` instead of the whole model\n",
        "2. `torch.load()` - load a saved PyTorch object\n",
        "3. `torch.nn.Module.load_state_dict()` - load a model's saved state dictionary `state_dict()`"
      ],
      "metadata": {
        "id": "tf3VUWOW7OSk"
      }
    },
    {
      "cell_type": "code",
      "source": [
        "from pathlib import Path\n",
        "\n",
        "#1. Create models directory\n",
        "MODEL_PATH = Path('models')\n",
        "MODEL_PATH.mkdir(parents=True, exist_ok=True)\n",
        "\n",
        "#2. Create model save path\n",
        "MODEL_NAME = 'dummy_model.pth' # Convention to save PyTorch models using ph or pth extension\n",
        "MODEL_SAVE_PATH = MODEL_PATH / MODEL_NAME\n",
        "\n",
        "MODEL_SAVE_PATH\n",
        "\n",
        "#3. Save the model state dict\n",
        "print(f\"Saving model to: {MODEL_SAVE_PATH}\")\n",
        "torch.save(obj = model.state_dict(),\n",
        "           f = MODEL_SAVE_PATH)"
      ],
      "metadata": {
        "colab": {
          "base_uri": "https://localhost:8080/"
        },
        "id": "6j8d0suz7P9O",
        "outputId": "dbe41ec0-1c2b-4e63-acf5-d5ee9c77b495"
      },
      "execution_count": 112,
      "outputs": [
        {
          "output_type": "stream",
          "name": "stdout",
          "text": [
            "Saving model to: models/dummy_model.pth\n"
          ]
        }
      ]
    },
    {
      "cell_type": "code",
      "source": [
        "loaded_model = LinearRegressionModel() # Instantiated with random parameters\n",
        "loaded_model.load_state_dict(torch.load(MODEL_SAVE_PATH))"
      ],
      "metadata": {
        "colab": {
          "base_uri": "https://localhost:8080/"
        },
        "id": "NT4990Br25ca",
        "outputId": "2c96d566-8585-4030-a0a6-f28452d7728d"
      },
      "execution_count": 114,
      "outputs": [
        {
          "output_type": "execute_result",
          "data": {
            "text/plain": [
              "<All keys matched successfully>"
            ]
          },
          "metadata": {},
          "execution_count": 114
        }
      ]
    },
    {
      "cell_type": "code",
      "source": [
        "loaded_model.state_dict()"
      ],
      "metadata": {
        "colab": {
          "base_uri": "https://localhost:8080/"
        },
        "id": "zxQUCgyN-egw",
        "outputId": "10096758-94d6-4a13-9581-e3c8a70926f3"
      },
      "execution_count": 115,
      "outputs": [
        {
          "output_type": "execute_result",
          "data": {
            "text/plain": [
              "OrderedDict([('weights', tensor([0.6852])), ('bias', tensor([0.3898]))])"
            ]
          },
          "metadata": {},
          "execution_count": 115
        }
      ]
    },
    {
      "cell_type": "markdown",
      "source": [
        "### Build a PyTorch Linear Model\n"
      ],
      "metadata": {
        "id": "25UqyOUmZqi-"
      }
    },
    {
      "cell_type": "code",
      "source": [
        "# Setup device agnostic code\n",
        "device = \"cuda\" if torch.cuda.is_available() else \"cpu\"\n",
        "print(f\"Using device: {device}\")"
      ],
      "metadata": {
        "colab": {
          "base_uri": "https://localhost:8080/"
        },
        "id": "Xycqal0kcSAA",
        "outputId": "0c6b0c3c-903d-48f3-db06-7bf8466b626c"
      },
      "execution_count": 120,
      "outputs": [
        {
          "output_type": "stream",
          "name": "stdout",
          "text": [
            "Using device: cpu\n"
          ]
        }
      ]
    },
    {
      "cell_type": "code",
      "source": [
        "class LinearRegressionModel2(nn.Module):\n",
        "  def __init__(self):\n",
        "    super().__init__()\n",
        "    # torch.nn has pre-built computations like nn.Linear that creates the parameters for a linear regression model\n",
        "    # Instead of defining the parameters, this is automatically handled based on the input and output shape\n",
        "    self.linear_layer = nn.Linear(in_features = 1,\n",
        "                                  out_features = 1)\n",
        "  def forward(self, x: torch.Tensor) -> torch.Tensor:\n",
        "    return self.linear_layer(x)"
      ],
      "metadata": {
        "id": "oBuNp5M_-2Qa"
      },
      "execution_count": 117,
      "outputs": []
    },
    {
      "cell_type": "code",
      "source": [
        "torch.manual_seed(101)\n",
        "model = LinearRegressionModel2()\n",
        "model, model.state_dict()"
      ],
      "metadata": {
        "colab": {
          "base_uri": "https://localhost:8080/"
        },
        "id": "NQe1lGKObTvw",
        "outputId": "31f79e9c-eb80-45f6-e684-7fa1b1ecf4cc"
      },
      "execution_count": 118,
      "outputs": [
        {
          "output_type": "execute_result",
          "data": {
            "text/plain": [
              "(LinearRegressionModel2(\n",
              "   (linear_layer): Linear(in_features=1, out_features=1, bias=True)\n",
              " ),\n",
              " OrderedDict([('linear_layer.weight', tensor([[-0.6039]])),\n",
              "              ('linear_layer.bias', tensor([-0.0994]))]))"
            ]
          },
          "metadata": {},
          "execution_count": 118
        }
      ]
    },
    {
      "cell_type": "code",
      "source": [
        "# Model's current device\n",
        "print(next(model.parameters()).device)\n",
        "\n",
        "# Move the model to GPU if available\n",
        "model.to(device)\n",
        "print(next(model.parameters()).device)\n",
        "\n",
        "# Similarly the data since we need them on the same device\n",
        "X_train = X_train.to(device)\n",
        "X_test = X_test.to(device)\n",
        "y_train = y_train.to(device)\n",
        "y_test = y_test.to(device)"
      ],
      "metadata": {
        "colab": {
          "base_uri": "https://localhost:8080/"
        },
        "id": "E6w1-VxibaSy",
        "outputId": "46d881fd-46d0-4fdc-ff78-24cca151d196"
      },
      "execution_count": 124,
      "outputs": [
        {
          "output_type": "stream",
          "name": "stdout",
          "text": [
            "cpu\n",
            "cpu\n"
          ]
        }
      ]
    },
    {
      "cell_type": "code",
      "source": [
        "loss_fn = nn.L1Loss()\n",
        "optimizer = torch.optim.SGD(params = model.parameters(), lr = 0.01)"
      ],
      "metadata": {
        "id": "p_Mb_EcqcAqO"
      },
      "execution_count": 125,
      "outputs": []
    },
    {
      "cell_type": "code",
      "source": [
        "torch.manual_seed(42)\n",
        "\n",
        "# Set the number of epochs\n",
        "epochs = 1000\n",
        "\n",
        "for epoch in range(epochs):\n",
        "  model.train()\n",
        "\n",
        "  y_pred = model(X_train)\n",
        "  loss = loss_fn(y_pred, y_train)\n",
        "  optimizer.zero_grad()\n",
        "  loss.backward()\n",
        "  optimizer.step()\n",
        "\n",
        "  model.eval()\n",
        "\n",
        "  with torch.inference_mode():\n",
        "    test_pred = model(X_test)\n",
        "    test_loss = loss_fn(test_pred, y_test)\n",
        "\n",
        "  if epoch%100 == 0:\n",
        "    print(f\"Epoch: {epoch} | Loss: {loss} | Test loss: {test_loss}\")"
      ],
      "metadata": {
        "colab": {
          "base_uri": "https://localhost:8080/"
        },
        "id": "jpodWNwreaY4",
        "outputId": "f9547894-4d7f-4f70-8ca2-c41a0a08265f"
      },
      "execution_count": 126,
      "outputs": [
        {
          "output_type": "stream",
          "name": "stdout",
          "text": [
            "Epoch: 0 | Loss: 0.9079464077949524 | Test loss: 1.5464258193969727\n",
            "Epoch: 100 | Loss: 0.1947632133960724 | Test loss: 0.5341842174530029\n",
            "Epoch: 200 | Loss: 0.14969071745872498 | Test loss: 0.3535514771938324\n",
            "Epoch: 300 | Loss: 0.11526425927877426 | Test loss: 0.2687678039073944\n",
            "Epoch: 400 | Loss: 0.08091464638710022 | Test loss: 0.18810442090034485\n",
            "Epoch: 500 | Loss: 0.04657777398824692 | Test loss: 0.10812652111053467\n",
            "Epoch: 600 | Loss: 0.01222942117601633 | Test loss: 0.028148645535111427\n",
            "Epoch: 700 | Loss: 0.009021404199302197 | Test loss: 0.0051594078540802\n",
            "Epoch: 800 | Loss: 0.009021404199302197 | Test loss: 0.0051594078540802\n",
            "Epoch: 900 | Loss: 0.009021404199302197 | Test loss: 0.0051594078540802\n"
          ]
        }
      ]
    },
    {
      "cell_type": "code",
      "source": [
        "print(model.state_dict())"
      ],
      "metadata": {
        "colab": {
          "base_uri": "https://localhost:8080/"
        },
        "id": "DQzP5ONBfAwF",
        "outputId": "5cc9a55a-5f28-4c83-d22f-9b7dcd3fae48"
      },
      "execution_count": 127,
      "outputs": [
        {
          "output_type": "stream",
          "name": "stdout",
          "text": [
            "OrderedDict([('linear_layer.weight', tensor([[0.6986]])), ('linear_layer.bias', tensor([0.3096]))])\n"
          ]
        }
      ]
    },
    {
      "cell_type": "code",
      "source": [
        "model.eval()\n",
        "\n",
        "with torch.inference_mode():\n",
        "  y_pred = model(X_test)\n",
        "\n",
        "y_pred"
      ],
      "metadata": {
        "colab": {
          "base_uri": "https://localhost:8080/"
        },
        "id": "C1ZUWc7XfMG7",
        "outputId": "49a4a577-c5f5-4af8-ec67-fc6fd3e4d9b6"
      },
      "execution_count": 128,
      "outputs": [
        {
          "output_type": "execute_result",
          "data": {
            "text/plain": [
              "tensor([[0.8684],\n",
              "        [0.8824],\n",
              "        [0.8964],\n",
              "        [0.9104],\n",
              "        [0.9243],\n",
              "        [0.9383],\n",
              "        [0.9523],\n",
              "        [0.9662],\n",
              "        [0.9802],\n",
              "        [0.9942]])"
            ]
          },
          "metadata": {},
          "execution_count": 128
        }
      ]
    },
    {
      "cell_type": "code",
      "source": [
        "from pathlib import Path\n",
        "\n",
        "MODEL_PATH = Path('models')\n",
        "MODEL_PATH.mkdir(parents=True, exist_ok = True)\n",
        "\n",
        "MODEL_NAME = 'model.pth'\n",
        "\n",
        "MODEL_SAVE_PATH = MODEL_PATH / MODEL_NAME\n",
        "\n",
        "print(f'Saving model to: {MODEL_SAVE_PATH}')\n",
        "torch.save(obj = model.state_dict(), f = MODEL_SAVE_PATH)"
      ],
      "metadata": {
        "colab": {
          "base_uri": "https://localhost:8080/"
        },
        "id": "0YVzBmpDfmq5",
        "outputId": "6daf9c63-4a5b-458a-bbaf-12a015dce927"
      },
      "execution_count": 129,
      "outputs": [
        {
          "output_type": "stream",
          "name": "stdout",
          "text": [
            "Saving model to: models/model.pth\n"
          ]
        }
      ]
    },
    {
      "cell_type": "code",
      "source": [],
      "metadata": {
        "id": "NHLSN6cWgAyj"
      },
      "execution_count": null,
      "outputs": []
    }
  ]
}